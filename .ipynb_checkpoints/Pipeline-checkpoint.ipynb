{
 "cells": [
  {
   "cell_type": "code",
   "execution_count": 5,
   "id": "5a926b4d",
   "metadata": {},
   "outputs": [],
   "source": [
    "#importing the libaries\n",
    "import numpy as np"
   ]
  },
  {
   "cell_type": "code",
   "execution_count": 10,
   "id": "91f0f3ea",
   "metadata": {},
   "outputs": [],
   "source": [
    "## Data generation\n",
    "\n",
    "from sklearn.datasets import make_classification\n",
    "def generation():\n",
    "    X, Y = make_classification(n_samples=1000,n_features=4,n_classes=3,n_informative=4,n_redundant=0)\n",
    "    return X,Y"
   ]
  },
  {
   "cell_type": "code",
   "execution_count": 11,
   "id": "fc2d3684",
   "metadata": {},
   "outputs": [],
   "source": [
    "import sklearn.model_selection\n",
    "\n",
    "# Data processing \n",
    "def process_data(X, Y):\n",
    "    X_train, X_test, y_train, y_test = sklearn.model_selection.train_test_split(X,Y)\n",
    "    return X_train, X_test, y_train, y_test\n",
    "\n",
    "def split_validation(X,Y):\n",
    "    X_train, X_val, y_train, y_val = sklearn.model_selection.train_test_split(X,Y)\n",
    "    return X_train, X_val, y_train, y_val\n",
    "    "
   ]
  },
  {
   "cell_type": "code",
   "execution_count": 14,
   "id": "d63f80ed",
   "metadata": {},
   "outputs": [],
   "source": [
    "#Evaluation\n",
    "\n",
    "from sklearn.metrics import accuracy_score\n",
    "def Evaluate(clf, X_train, y_train, X_test, y_test):\n",
    "    clf.fit(X_train, y_train)\n",
    "    y_pred = clf.predict(X_test)\n",
    "    accuracy = accuracy_score(y_pred, y_test)\n",
    "    return accuracy"
   ]
  },
  {
   "cell_type": "code",
   "execution_count": 15,
   "id": "6427393f",
   "metadata": {},
   "outputs": [],
   "source": [
    "#the experiment setup\n",
    "\n",
    "from sklearn import svm\n",
    "from sklearn.linear_model import LogisticRegression\n",
    "from sklearn.neural_network import MLPClassifier"
   ]
  },
  {
   "cell_type": "code",
   "execution_count": 17,
   "id": "9002ce42",
   "metadata": {},
   "outputs": [
    {
     "name": "stdout",
     "output_type": "stream",
     "text": [
      "Experiment  0\n",
      "------------\n",
      "SVC(C=100, gamma=0.01) 0.84\n",
      "LogisticRegression(random_state=0) 0.76\n",
      "MLPClassifier(max_iter=300, random_state=1) 0.84\n",
      "Experiment  1\n",
      "------------\n",
      "SVC(C=100, gamma=0.01) 0.88\n",
      "LogisticRegression(random_state=0) 0.72\n"
     ]
    },
    {
     "name": "stderr",
     "output_type": "stream",
     "text": [
      "/Users/roaka001/opt/anaconda3/envs/INSTK/lib/python3.9/site-packages/sklearn/neural_network/_multilayer_perceptron.py:614: ConvergenceWarning: Stochastic Optimizer: Maximum iterations (300) reached and the optimization hasn't converged yet.\n",
      "  warnings.warn(\n",
      "/Users/roaka001/opt/anaconda3/envs/INSTK/lib/python3.9/site-packages/sklearn/neural_network/_multilayer_perceptron.py:614: ConvergenceWarning: Stochastic Optimizer: Maximum iterations (300) reached and the optimization hasn't converged yet.\n",
      "  warnings.warn(\n"
     ]
    },
    {
     "name": "stdout",
     "output_type": "stream",
     "text": [
      "MLPClassifier(max_iter=300, random_state=1) 0.88\n",
      "Experiment  2\n",
      "------------\n",
      "SVC(C=100, gamma=0.01) 0.88\n",
      "LogisticRegression(random_state=0) 0.68\n",
      "MLPClassifier(max_iter=300, random_state=1) 0.88\n",
      "Experiment  3\n",
      "------------\n",
      "SVC(C=100, gamma=0.01) 0.88\n",
      "LogisticRegression(random_state=0) 0.84\n"
     ]
    },
    {
     "name": "stderr",
     "output_type": "stream",
     "text": [
      "/Users/roaka001/opt/anaconda3/envs/INSTK/lib/python3.9/site-packages/sklearn/neural_network/_multilayer_perceptron.py:614: ConvergenceWarning: Stochastic Optimizer: Maximum iterations (300) reached and the optimization hasn't converged yet.\n",
      "  warnings.warn(\n",
      "/Users/roaka001/opt/anaconda3/envs/INSTK/lib/python3.9/site-packages/sklearn/neural_network/_multilayer_perceptron.py:614: ConvergenceWarning: Stochastic Optimizer: Maximum iterations (300) reached and the optimization hasn't converged yet.\n",
      "  warnings.warn(\n"
     ]
    },
    {
     "name": "stdout",
     "output_type": "stream",
     "text": [
      "MLPClassifier(max_iter=300, random_state=1) 1.0\n",
      "Experiment  4\n",
      "------------\n",
      "SVC(C=100, gamma=0.01) 0.72\n",
      "LogisticRegression(random_state=0) 0.68\n",
      "MLPClassifier(max_iter=300, random_state=1) 0.84\n",
      "Experiment  5\n",
      "------------\n",
      "SVC(C=100, gamma=0.01) 0.88\n",
      "LogisticRegression(random_state=0) 0.72\n"
     ]
    },
    {
     "name": "stderr",
     "output_type": "stream",
     "text": [
      "/Users/roaka001/opt/anaconda3/envs/INSTK/lib/python3.9/site-packages/sklearn/neural_network/_multilayer_perceptron.py:614: ConvergenceWarning: Stochastic Optimizer: Maximum iterations (300) reached and the optimization hasn't converged yet.\n",
      "  warnings.warn(\n",
      "/Users/roaka001/opt/anaconda3/envs/INSTK/lib/python3.9/site-packages/sklearn/neural_network/_multilayer_perceptron.py:614: ConvergenceWarning: Stochastic Optimizer: Maximum iterations (300) reached and the optimization hasn't converged yet.\n",
      "  warnings.warn(\n"
     ]
    },
    {
     "name": "stdout",
     "output_type": "stream",
     "text": [
      "MLPClassifier(max_iter=300, random_state=1) 0.92\n",
      "Experiment  6\n",
      "------------\n",
      "SVC(C=100, gamma=0.01) 0.72\n",
      "LogisticRegression(random_state=0) 0.76\n",
      "MLPClassifier(max_iter=300, random_state=1) 0.84\n",
      "Experiment  7\n",
      "------------\n",
      "SVC(C=100, gamma=0.01) 0.8\n",
      "LogisticRegression(random_state=0) 0.68\n"
     ]
    },
    {
     "name": "stderr",
     "output_type": "stream",
     "text": [
      "/Users/roaka001/opt/anaconda3/envs/INSTK/lib/python3.9/site-packages/sklearn/neural_network/_multilayer_perceptron.py:614: ConvergenceWarning: Stochastic Optimizer: Maximum iterations (300) reached and the optimization hasn't converged yet.\n",
      "  warnings.warn(\n",
      "/Users/roaka001/opt/anaconda3/envs/INSTK/lib/python3.9/site-packages/sklearn/neural_network/_multilayer_perceptron.py:614: ConvergenceWarning: Stochastic Optimizer: Maximum iterations (300) reached and the optimization hasn't converged yet.\n",
      "  warnings.warn(\n"
     ]
    },
    {
     "name": "stdout",
     "output_type": "stream",
     "text": [
      "MLPClassifier(max_iter=300, random_state=1) 0.88\n",
      "Experiment  8\n",
      "------------\n",
      "SVC(C=100, gamma=0.01) 0.8\n",
      "LogisticRegression(random_state=0) 0.84\n",
      "MLPClassifier(max_iter=300, random_state=1) 0.84\n",
      "Experiment  9\n",
      "------------\n",
      "SVC(C=100, gamma=0.01) 0.84\n",
      "LogisticRegression(random_state=0) 0.84\n"
     ]
    },
    {
     "name": "stderr",
     "output_type": "stream",
     "text": [
      "/Users/roaka001/opt/anaconda3/envs/INSTK/lib/python3.9/site-packages/sklearn/neural_network/_multilayer_perceptron.py:614: ConvergenceWarning: Stochastic Optimizer: Maximum iterations (300) reached and the optimization hasn't converged yet.\n",
      "  warnings.warn(\n",
      "/Users/roaka001/opt/anaconda3/envs/INSTK/lib/python3.9/site-packages/sklearn/neural_network/_multilayer_perceptron.py:614: ConvergenceWarning: Stochastic Optimizer: Maximum iterations (300) reached and the optimization hasn't converged yet.\n",
      "  warnings.warn(\n"
     ]
    },
    {
     "name": "stdout",
     "output_type": "stream",
     "text": [
      "MLPClassifier(max_iter=300, random_state=1) 0.92\n",
      "Experiment  10\n",
      "------------\n",
      "SVC(C=100, gamma=0.01) 0.76\n",
      "LogisticRegression(random_state=0) 0.64\n",
      "MLPClassifier(max_iter=300, random_state=1) 0.76\n",
      "Experiment  11\n",
      "------------\n",
      "SVC(C=100, gamma=0.01) 0.72\n",
      "LogisticRegression(random_state=0) 0.72\n"
     ]
    },
    {
     "name": "stderr",
     "output_type": "stream",
     "text": [
      "/Users/roaka001/opt/anaconda3/envs/INSTK/lib/python3.9/site-packages/sklearn/neural_network/_multilayer_perceptron.py:614: ConvergenceWarning: Stochastic Optimizer: Maximum iterations (300) reached and the optimization hasn't converged yet.\n",
      "  warnings.warn(\n",
      "/Users/roaka001/opt/anaconda3/envs/INSTK/lib/python3.9/site-packages/sklearn/neural_network/_multilayer_perceptron.py:614: ConvergenceWarning: Stochastic Optimizer: Maximum iterations (300) reached and the optimization hasn't converged yet.\n",
      "  warnings.warn(\n"
     ]
    },
    {
     "name": "stdout",
     "output_type": "stream",
     "text": [
      "MLPClassifier(max_iter=300, random_state=1) 0.76\n",
      "Experiment  12\n",
      "------------\n",
      "SVC(C=100, gamma=0.01) 0.84\n",
      "LogisticRegression(random_state=0) 0.76\n",
      "MLPClassifier(max_iter=300, random_state=1) 0.84\n",
      "Experiment  13\n",
      "------------\n",
      "SVC(C=100, gamma=0.01) 0.92\n",
      "LogisticRegression(random_state=0) 0.88\n"
     ]
    },
    {
     "name": "stderr",
     "output_type": "stream",
     "text": [
      "/Users/roaka001/opt/anaconda3/envs/INSTK/lib/python3.9/site-packages/sklearn/neural_network/_multilayer_perceptron.py:614: ConvergenceWarning: Stochastic Optimizer: Maximum iterations (300) reached and the optimization hasn't converged yet.\n",
      "  warnings.warn(\n",
      "/Users/roaka001/opt/anaconda3/envs/INSTK/lib/python3.9/site-packages/sklearn/neural_network/_multilayer_perceptron.py:614: ConvergenceWarning: Stochastic Optimizer: Maximum iterations (300) reached and the optimization hasn't converged yet.\n",
      "  warnings.warn(\n"
     ]
    },
    {
     "name": "stdout",
     "output_type": "stream",
     "text": [
      "MLPClassifier(max_iter=300, random_state=1) 0.96\n",
      "Experiment  14\n",
      "------------\n",
      "SVC(C=100, gamma=0.01) 0.92\n",
      "LogisticRegression(random_state=0) 0.88\n",
      "MLPClassifier(max_iter=300, random_state=1) 0.88\n",
      "Experiment  15\n",
      "------------\n",
      "SVC(C=100, gamma=0.01) 0.8\n",
      "LogisticRegression(random_state=0) 0.64\n"
     ]
    },
    {
     "name": "stderr",
     "output_type": "stream",
     "text": [
      "/Users/roaka001/opt/anaconda3/envs/INSTK/lib/python3.9/site-packages/sklearn/neural_network/_multilayer_perceptron.py:614: ConvergenceWarning: Stochastic Optimizer: Maximum iterations (300) reached and the optimization hasn't converged yet.\n",
      "  warnings.warn(\n",
      "/Users/roaka001/opt/anaconda3/envs/INSTK/lib/python3.9/site-packages/sklearn/neural_network/_multilayer_perceptron.py:614: ConvergenceWarning: Stochastic Optimizer: Maximum iterations (300) reached and the optimization hasn't converged yet.\n",
      "  warnings.warn(\n"
     ]
    },
    {
     "name": "stdout",
     "output_type": "stream",
     "text": [
      "MLPClassifier(max_iter=300, random_state=1) 0.8\n",
      "Experiment  16\n",
      "------------\n",
      "SVC(C=100, gamma=0.01) 0.8\n",
      "LogisticRegression(random_state=0) 0.68\n",
      "MLPClassifier(max_iter=300, random_state=1) 0.84\n",
      "Experiment  17\n",
      "------------\n",
      "SVC(C=100, gamma=0.01) 0.96\n",
      "LogisticRegression(random_state=0) 0.72\n"
     ]
    },
    {
     "name": "stderr",
     "output_type": "stream",
     "text": [
      "/Users/roaka001/opt/anaconda3/envs/INSTK/lib/python3.9/site-packages/sklearn/neural_network/_multilayer_perceptron.py:614: ConvergenceWarning: Stochastic Optimizer: Maximum iterations (300) reached and the optimization hasn't converged yet.\n",
      "  warnings.warn(\n",
      "/Users/roaka001/opt/anaconda3/envs/INSTK/lib/python3.9/site-packages/sklearn/neural_network/_multilayer_perceptron.py:614: ConvergenceWarning: Stochastic Optimizer: Maximum iterations (300) reached and the optimization hasn't converged yet.\n",
      "  warnings.warn(\n"
     ]
    },
    {
     "name": "stdout",
     "output_type": "stream",
     "text": [
      "MLPClassifier(max_iter=300, random_state=1) 0.96\n",
      "Experiment  18\n",
      "------------\n",
      "SVC(C=100, gamma=0.01) 0.88\n",
      "LogisticRegression(random_state=0) 0.64\n",
      "MLPClassifier(max_iter=300, random_state=1) 0.88\n",
      "Experiment  19\n",
      "------------\n",
      "SVC(C=100, gamma=0.01) 0.88\n",
      "LogisticRegression(random_state=0) 0.68\n"
     ]
    },
    {
     "name": "stderr",
     "output_type": "stream",
     "text": [
      "/Users/roaka001/opt/anaconda3/envs/INSTK/lib/python3.9/site-packages/sklearn/neural_network/_multilayer_perceptron.py:614: ConvergenceWarning: Stochastic Optimizer: Maximum iterations (300) reached and the optimization hasn't converged yet.\n",
      "  warnings.warn(\n",
      "/Users/roaka001/opt/anaconda3/envs/INSTK/lib/python3.9/site-packages/sklearn/neural_network/_multilayer_perceptron.py:614: ConvergenceWarning: Stochastic Optimizer: Maximum iterations (300) reached and the optimization hasn't converged yet.\n",
      "  warnings.warn(\n"
     ]
    },
    {
     "name": "stdout",
     "output_type": "stream",
     "text": [
      "MLPClassifier(max_iter=300, random_state=1) 0.88\n",
      "Experiment  20\n",
      "------------\n",
      "SVC(C=100, gamma=0.01) 0.88\n",
      "LogisticRegression(random_state=0) 0.8\n",
      "MLPClassifier(max_iter=300, random_state=1) 0.96\n",
      "Experiment  21\n",
      "------------\n",
      "SVC(C=100, gamma=0.01) 0.84\n",
      "LogisticRegression(random_state=0) 0.84\n"
     ]
    },
    {
     "name": "stderr",
     "output_type": "stream",
     "text": [
      "/Users/roaka001/opt/anaconda3/envs/INSTK/lib/python3.9/site-packages/sklearn/neural_network/_multilayer_perceptron.py:614: ConvergenceWarning: Stochastic Optimizer: Maximum iterations (300) reached and the optimization hasn't converged yet.\n",
      "  warnings.warn(\n",
      "/Users/roaka001/opt/anaconda3/envs/INSTK/lib/python3.9/site-packages/sklearn/neural_network/_multilayer_perceptron.py:614: ConvergenceWarning: Stochastic Optimizer: Maximum iterations (300) reached and the optimization hasn't converged yet.\n",
      "  warnings.warn(\n"
     ]
    },
    {
     "name": "stdout",
     "output_type": "stream",
     "text": [
      "MLPClassifier(max_iter=300, random_state=1) 0.88\n",
      "Experiment  22\n",
      "------------\n",
      "SVC(C=100, gamma=0.01) 0.92\n",
      "LogisticRegression(random_state=0) 0.84\n",
      "MLPClassifier(max_iter=300, random_state=1) 0.92\n",
      "Experiment  23\n",
      "------------\n",
      "SVC(C=100, gamma=0.01) 0.84\n",
      "LogisticRegression(random_state=0) 0.76\n"
     ]
    },
    {
     "name": "stderr",
     "output_type": "stream",
     "text": [
      "/Users/roaka001/opt/anaconda3/envs/INSTK/lib/python3.9/site-packages/sklearn/neural_network/_multilayer_perceptron.py:614: ConvergenceWarning: Stochastic Optimizer: Maximum iterations (300) reached and the optimization hasn't converged yet.\n",
      "  warnings.warn(\n",
      "/Users/roaka001/opt/anaconda3/envs/INSTK/lib/python3.9/site-packages/sklearn/neural_network/_multilayer_perceptron.py:614: ConvergenceWarning: Stochastic Optimizer: Maximum iterations (300) reached and the optimization hasn't converged yet.\n",
      "  warnings.warn(\n"
     ]
    },
    {
     "name": "stdout",
     "output_type": "stream",
     "text": [
      "MLPClassifier(max_iter=300, random_state=1) 0.8\n",
      "Experiment  24\n",
      "------------\n",
      "SVC(C=100, gamma=0.01) 0.88\n",
      "LogisticRegression(random_state=0) 0.88\n",
      "MLPClassifier(max_iter=300, random_state=1) 0.88\n",
      "Experiment  25\n",
      "------------\n",
      "SVC(C=100, gamma=0.01) 0.96\n",
      "LogisticRegression(random_state=0) 0.84\n"
     ]
    },
    {
     "name": "stderr",
     "output_type": "stream",
     "text": [
      "/Users/roaka001/opt/anaconda3/envs/INSTK/lib/python3.9/site-packages/sklearn/neural_network/_multilayer_perceptron.py:614: ConvergenceWarning: Stochastic Optimizer: Maximum iterations (300) reached and the optimization hasn't converged yet.\n",
      "  warnings.warn(\n",
      "/Users/roaka001/opt/anaconda3/envs/INSTK/lib/python3.9/site-packages/sklearn/neural_network/_multilayer_perceptron.py:614: ConvergenceWarning: Stochastic Optimizer: Maximum iterations (300) reached and the optimization hasn't converged yet.\n",
      "  warnings.warn(\n"
     ]
    },
    {
     "name": "stdout",
     "output_type": "stream",
     "text": [
      "MLPClassifier(max_iter=300, random_state=1) 0.92\n",
      "Experiment  26\n",
      "------------\n",
      "SVC(C=100, gamma=0.01) 0.88\n",
      "LogisticRegression(random_state=0) 0.76\n",
      "MLPClassifier(max_iter=300, random_state=1) 0.88\n",
      "Experiment  27\n",
      "------------\n",
      "SVC(C=100, gamma=0.01) 0.84\n",
      "LogisticRegression(random_state=0) 0.72\n"
     ]
    },
    {
     "name": "stderr",
     "output_type": "stream",
     "text": [
      "/Users/roaka001/opt/anaconda3/envs/INSTK/lib/python3.9/site-packages/sklearn/neural_network/_multilayer_perceptron.py:614: ConvergenceWarning: Stochastic Optimizer: Maximum iterations (300) reached and the optimization hasn't converged yet.\n",
      "  warnings.warn(\n",
      "/Users/roaka001/opt/anaconda3/envs/INSTK/lib/python3.9/site-packages/sklearn/neural_network/_multilayer_perceptron.py:614: ConvergenceWarning: Stochastic Optimizer: Maximum iterations (300) reached and the optimization hasn't converged yet.\n",
      "  warnings.warn(\n"
     ]
    },
    {
     "name": "stdout",
     "output_type": "stream",
     "text": [
      "MLPClassifier(max_iter=300, random_state=1) 0.96\n",
      "Experiment  28\n",
      "------------\n",
      "SVC(C=100, gamma=0.01) 0.96\n",
      "LogisticRegression(random_state=0) 0.96\n",
      "MLPClassifier(max_iter=300, random_state=1) 0.96\n",
      "Experiment  29\n",
      "------------\n",
      "SVC(C=100, gamma=0.01) 0.92\n",
      "LogisticRegression(random_state=0) 0.64\n"
     ]
    },
    {
     "name": "stderr",
     "output_type": "stream",
     "text": [
      "/Users/roaka001/opt/anaconda3/envs/INSTK/lib/python3.9/site-packages/sklearn/neural_network/_multilayer_perceptron.py:614: ConvergenceWarning: Stochastic Optimizer: Maximum iterations (300) reached and the optimization hasn't converged yet.\n",
      "  warnings.warn(\n",
      "/Users/roaka001/opt/anaconda3/envs/INSTK/lib/python3.9/site-packages/sklearn/neural_network/_multilayer_perceptron.py:614: ConvergenceWarning: Stochastic Optimizer: Maximum iterations (300) reached and the optimization hasn't converged yet.\n",
      "  warnings.warn(\n"
     ]
    },
    {
     "name": "stdout",
     "output_type": "stream",
     "text": [
      "MLPClassifier(max_iter=300, random_state=1) 0.88\n",
      "Experiment  30\n",
      "------------\n",
      "SVC(C=100, gamma=0.01) 0.84\n",
      "LogisticRegression(random_state=0) 0.84\n",
      "MLPClassifier(max_iter=300, random_state=1) 0.88\n",
      "Experiment  31\n",
      "------------\n",
      "SVC(C=100, gamma=0.01) 0.84\n",
      "LogisticRegression(random_state=0) 0.6\n"
     ]
    },
    {
     "name": "stderr",
     "output_type": "stream",
     "text": [
      "/Users/roaka001/opt/anaconda3/envs/INSTK/lib/python3.9/site-packages/sklearn/neural_network/_multilayer_perceptron.py:614: ConvergenceWarning: Stochastic Optimizer: Maximum iterations (300) reached and the optimization hasn't converged yet.\n",
      "  warnings.warn(\n",
      "/Users/roaka001/opt/anaconda3/envs/INSTK/lib/python3.9/site-packages/sklearn/neural_network/_multilayer_perceptron.py:614: ConvergenceWarning: Stochastic Optimizer: Maximum iterations (300) reached and the optimization hasn't converged yet.\n",
      "  warnings.warn(\n"
     ]
    },
    {
     "name": "stdout",
     "output_type": "stream",
     "text": [
      "MLPClassifier(max_iter=300, random_state=1) 0.88\n",
      "Experiment  32\n",
      "------------\n",
      "SVC(C=100, gamma=0.01) 0.88\n",
      "LogisticRegression(random_state=0) 0.76\n",
      "MLPClassifier(max_iter=300, random_state=1) 0.92\n",
      "Experiment  33\n",
      "------------\n",
      "SVC(C=100, gamma=0.01) 0.92\n",
      "LogisticRegression(random_state=0) 0.84\n"
     ]
    },
    {
     "name": "stderr",
     "output_type": "stream",
     "text": [
      "/Users/roaka001/opt/anaconda3/envs/INSTK/lib/python3.9/site-packages/sklearn/neural_network/_multilayer_perceptron.py:614: ConvergenceWarning: Stochastic Optimizer: Maximum iterations (300) reached and the optimization hasn't converged yet.\n",
      "  warnings.warn(\n",
      "/Users/roaka001/opt/anaconda3/envs/INSTK/lib/python3.9/site-packages/sklearn/neural_network/_multilayer_perceptron.py:614: ConvergenceWarning: Stochastic Optimizer: Maximum iterations (300) reached and the optimization hasn't converged yet.\n",
      "  warnings.warn(\n"
     ]
    },
    {
     "name": "stdout",
     "output_type": "stream",
     "text": [
      "MLPClassifier(max_iter=300, random_state=1) 0.92\n",
      "Experiment  34\n",
      "------------\n",
      "SVC(C=100, gamma=0.01) 0.8\n",
      "LogisticRegression(random_state=0) 0.72\n",
      "MLPClassifier(max_iter=300, random_state=1) 0.84\n",
      "Experiment  35\n",
      "------------\n",
      "SVC(C=100, gamma=0.01) 0.92\n",
      "LogisticRegression(random_state=0) 0.68\n"
     ]
    },
    {
     "name": "stderr",
     "output_type": "stream",
     "text": [
      "/Users/roaka001/opt/anaconda3/envs/INSTK/lib/python3.9/site-packages/sklearn/neural_network/_multilayer_perceptron.py:614: ConvergenceWarning: Stochastic Optimizer: Maximum iterations (300) reached and the optimization hasn't converged yet.\n",
      "  warnings.warn(\n",
      "/Users/roaka001/opt/anaconda3/envs/INSTK/lib/python3.9/site-packages/sklearn/neural_network/_multilayer_perceptron.py:614: ConvergenceWarning: Stochastic Optimizer: Maximum iterations (300) reached and the optimization hasn't converged yet.\n",
      "  warnings.warn(\n"
     ]
    },
    {
     "name": "stdout",
     "output_type": "stream",
     "text": [
      "MLPClassifier(max_iter=300, random_state=1) 0.96\n",
      "Experiment  36\n",
      "------------\n",
      "SVC(C=100, gamma=0.01) 0.76\n",
      "LogisticRegression(random_state=0) 0.8\n",
      "MLPClassifier(max_iter=300, random_state=1) 0.84\n",
      "Experiment  37\n",
      "------------\n",
      "SVC(C=100, gamma=0.01) 0.76\n",
      "LogisticRegression(random_state=0) 0.68\n"
     ]
    },
    {
     "name": "stderr",
     "output_type": "stream",
     "text": [
      "/Users/roaka001/opt/anaconda3/envs/INSTK/lib/python3.9/site-packages/sklearn/neural_network/_multilayer_perceptron.py:614: ConvergenceWarning: Stochastic Optimizer: Maximum iterations (300) reached and the optimization hasn't converged yet.\n",
      "  warnings.warn(\n",
      "/Users/roaka001/opt/anaconda3/envs/INSTK/lib/python3.9/site-packages/sklearn/neural_network/_multilayer_perceptron.py:614: ConvergenceWarning: Stochastic Optimizer: Maximum iterations (300) reached and the optimization hasn't converged yet.\n",
      "  warnings.warn(\n"
     ]
    },
    {
     "name": "stdout",
     "output_type": "stream",
     "text": [
      "MLPClassifier(max_iter=300, random_state=1) 0.84\n",
      "Experiment  38\n",
      "------------\n",
      "SVC(C=100, gamma=0.01) 0.88\n",
      "LogisticRegression(random_state=0) 0.76\n",
      "MLPClassifier(max_iter=300, random_state=1) 0.84\n",
      "Experiment  39\n",
      "------------\n",
      "SVC(C=100, gamma=0.01) 0.76\n",
      "LogisticRegression(random_state=0) 0.64\n"
     ]
    },
    {
     "name": "stderr",
     "output_type": "stream",
     "text": [
      "/Users/roaka001/opt/anaconda3/envs/INSTK/lib/python3.9/site-packages/sklearn/neural_network/_multilayer_perceptron.py:614: ConvergenceWarning: Stochastic Optimizer: Maximum iterations (300) reached and the optimization hasn't converged yet.\n",
      "  warnings.warn(\n",
      "/Users/roaka001/opt/anaconda3/envs/INSTK/lib/python3.9/site-packages/sklearn/neural_network/_multilayer_perceptron.py:614: ConvergenceWarning: Stochastic Optimizer: Maximum iterations (300) reached and the optimization hasn't converged yet.\n",
      "  warnings.warn(\n"
     ]
    },
    {
     "name": "stdout",
     "output_type": "stream",
     "text": [
      "MLPClassifier(max_iter=300, random_state=1) 0.92\n",
      "Experiment  40\n",
      "------------\n",
      "SVC(C=100, gamma=0.01) 0.88\n",
      "LogisticRegression(random_state=0) 0.8\n",
      "MLPClassifier(max_iter=300, random_state=1) 0.88\n",
      "Experiment  41\n",
      "------------\n",
      "SVC(C=100, gamma=0.01) 0.92\n",
      "LogisticRegression(random_state=0) 0.44\n"
     ]
    },
    {
     "name": "stderr",
     "output_type": "stream",
     "text": [
      "/Users/roaka001/opt/anaconda3/envs/INSTK/lib/python3.9/site-packages/sklearn/neural_network/_multilayer_perceptron.py:614: ConvergenceWarning: Stochastic Optimizer: Maximum iterations (300) reached and the optimization hasn't converged yet.\n",
      "  warnings.warn(\n",
      "/Users/roaka001/opt/anaconda3/envs/INSTK/lib/python3.9/site-packages/sklearn/neural_network/_multilayer_perceptron.py:614: ConvergenceWarning: Stochastic Optimizer: Maximum iterations (300) reached and the optimization hasn't converged yet.\n",
      "  warnings.warn(\n"
     ]
    },
    {
     "name": "stdout",
     "output_type": "stream",
     "text": [
      "MLPClassifier(max_iter=300, random_state=1) 0.92\n",
      "Experiment  42\n",
      "------------\n",
      "SVC(C=100, gamma=0.01) 0.88\n",
      "LogisticRegression(random_state=0) 0.8\n",
      "MLPClassifier(max_iter=300, random_state=1) 0.84\n",
      "Experiment  43\n",
      "------------\n",
      "SVC(C=100, gamma=0.01) 0.88\n",
      "LogisticRegression(random_state=0) 0.68\n"
     ]
    },
    {
     "name": "stderr",
     "output_type": "stream",
     "text": [
      "/Users/roaka001/opt/anaconda3/envs/INSTK/lib/python3.9/site-packages/sklearn/neural_network/_multilayer_perceptron.py:614: ConvergenceWarning: Stochastic Optimizer: Maximum iterations (300) reached and the optimization hasn't converged yet.\n",
      "  warnings.warn(\n",
      "/Users/roaka001/opt/anaconda3/envs/INSTK/lib/python3.9/site-packages/sklearn/neural_network/_multilayer_perceptron.py:614: ConvergenceWarning: Stochastic Optimizer: Maximum iterations (300) reached and the optimization hasn't converged yet.\n",
      "  warnings.warn(\n"
     ]
    },
    {
     "name": "stdout",
     "output_type": "stream",
     "text": [
      "MLPClassifier(max_iter=300, random_state=1) 0.92\n",
      "Experiment  44\n",
      "------------\n",
      "SVC(C=100, gamma=0.01) 0.92\n",
      "LogisticRegression(random_state=0) 0.8\n",
      "MLPClassifier(max_iter=300, random_state=1) 0.92\n",
      "Experiment  45\n",
      "------------\n",
      "SVC(C=100, gamma=0.01) 0.84\n",
      "LogisticRegression(random_state=0) 0.72\n"
     ]
    },
    {
     "name": "stderr",
     "output_type": "stream",
     "text": [
      "/Users/roaka001/opt/anaconda3/envs/INSTK/lib/python3.9/site-packages/sklearn/neural_network/_multilayer_perceptron.py:614: ConvergenceWarning: Stochastic Optimizer: Maximum iterations (300) reached and the optimization hasn't converged yet.\n",
      "  warnings.warn(\n",
      "/Users/roaka001/opt/anaconda3/envs/INSTK/lib/python3.9/site-packages/sklearn/neural_network/_multilayer_perceptron.py:614: ConvergenceWarning: Stochastic Optimizer: Maximum iterations (300) reached and the optimization hasn't converged yet.\n",
      "  warnings.warn(\n"
     ]
    },
    {
     "name": "stdout",
     "output_type": "stream",
     "text": [
      "MLPClassifier(max_iter=300, random_state=1) 0.92\n",
      "Experiment  46\n",
      "------------\n",
      "SVC(C=100, gamma=0.01) 0.68\n",
      "LogisticRegression(random_state=0) 0.72\n",
      "MLPClassifier(max_iter=300, random_state=1) 0.8\n",
      "Experiment  47\n",
      "------------\n",
      "SVC(C=100, gamma=0.01) 0.92\n",
      "LogisticRegression(random_state=0) 0.84\n"
     ]
    },
    {
     "name": "stderr",
     "output_type": "stream",
     "text": [
      "/Users/roaka001/opt/anaconda3/envs/INSTK/lib/python3.9/site-packages/sklearn/neural_network/_multilayer_perceptron.py:614: ConvergenceWarning: Stochastic Optimizer: Maximum iterations (300) reached and the optimization hasn't converged yet.\n",
      "  warnings.warn(\n",
      "/Users/roaka001/opt/anaconda3/envs/INSTK/lib/python3.9/site-packages/sklearn/neural_network/_multilayer_perceptron.py:614: ConvergenceWarning: Stochastic Optimizer: Maximum iterations (300) reached and the optimization hasn't converged yet.\n",
      "  warnings.warn(\n"
     ]
    },
    {
     "name": "stdout",
     "output_type": "stream",
     "text": [
      "MLPClassifier(max_iter=300, random_state=1) 0.92\n",
      "Experiment  48\n",
      "------------\n",
      "SVC(C=100, gamma=0.01) 0.92\n",
      "LogisticRegression(random_state=0) 0.76\n",
      "MLPClassifier(max_iter=300, random_state=1) 0.92\n",
      "Experiment  49\n",
      "------------\n",
      "SVC(C=100, gamma=0.01) 0.84\n",
      "LogisticRegression(random_state=0) 0.68\n"
     ]
    },
    {
     "name": "stderr",
     "output_type": "stream",
     "text": [
      "/Users/roaka001/opt/anaconda3/envs/INSTK/lib/python3.9/site-packages/sklearn/neural_network/_multilayer_perceptron.py:614: ConvergenceWarning: Stochastic Optimizer: Maximum iterations (300) reached and the optimization hasn't converged yet.\n",
      "  warnings.warn(\n",
      "/Users/roaka001/opt/anaconda3/envs/INSTK/lib/python3.9/site-packages/sklearn/neural_network/_multilayer_perceptron.py:614: ConvergenceWarning: Stochastic Optimizer: Maximum iterations (300) reached and the optimization hasn't converged yet.\n",
      "  warnings.warn(\n"
     ]
    },
    {
     "name": "stdout",
     "output_type": "stream",
     "text": [
      "MLPClassifier(max_iter=300, random_state=1) 0.84\n",
      "Experiment  50\n",
      "------------\n",
      "SVC(C=100, gamma=0.01) 0.76\n",
      "LogisticRegression(random_state=0) 0.76\n",
      "MLPClassifier(max_iter=300, random_state=1) 0.92\n",
      "Experiment  51\n",
      "------------\n",
      "SVC(C=100, gamma=0.01) 0.84\n",
      "LogisticRegression(random_state=0) 0.8\n"
     ]
    },
    {
     "name": "stderr",
     "output_type": "stream",
     "text": [
      "/Users/roaka001/opt/anaconda3/envs/INSTK/lib/python3.9/site-packages/sklearn/neural_network/_multilayer_perceptron.py:614: ConvergenceWarning: Stochastic Optimizer: Maximum iterations (300) reached and the optimization hasn't converged yet.\n",
      "  warnings.warn(\n",
      "/Users/roaka001/opt/anaconda3/envs/INSTK/lib/python3.9/site-packages/sklearn/neural_network/_multilayer_perceptron.py:614: ConvergenceWarning: Stochastic Optimizer: Maximum iterations (300) reached and the optimization hasn't converged yet.\n",
      "  warnings.warn(\n"
     ]
    },
    {
     "name": "stdout",
     "output_type": "stream",
     "text": [
      "MLPClassifier(max_iter=300, random_state=1) 0.88\n",
      "Experiment  52\n",
      "------------\n",
      "SVC(C=100, gamma=0.01) 0.88\n",
      "LogisticRegression(random_state=0) 0.8\n",
      "MLPClassifier(max_iter=300, random_state=1) 0.88\n",
      "Experiment  53\n",
      "------------\n",
      "SVC(C=100, gamma=0.01) 0.88\n",
      "LogisticRegression(random_state=0) 0.68\n"
     ]
    },
    {
     "name": "stderr",
     "output_type": "stream",
     "text": [
      "/Users/roaka001/opt/anaconda3/envs/INSTK/lib/python3.9/site-packages/sklearn/neural_network/_multilayer_perceptron.py:614: ConvergenceWarning: Stochastic Optimizer: Maximum iterations (300) reached and the optimization hasn't converged yet.\n",
      "  warnings.warn(\n",
      "/Users/roaka001/opt/anaconda3/envs/INSTK/lib/python3.9/site-packages/sklearn/neural_network/_multilayer_perceptron.py:614: ConvergenceWarning: Stochastic Optimizer: Maximum iterations (300) reached and the optimization hasn't converged yet.\n",
      "  warnings.warn(\n"
     ]
    },
    {
     "name": "stdout",
     "output_type": "stream",
     "text": [
      "MLPClassifier(max_iter=300, random_state=1) 0.84\n",
      "Experiment  54\n",
      "------------\n",
      "SVC(C=100, gamma=0.01) 0.84\n",
      "LogisticRegression(random_state=0) 0.8\n",
      "MLPClassifier(max_iter=300, random_state=1) 0.84\n",
      "Experiment  55\n",
      "------------\n",
      "SVC(C=100, gamma=0.01) 0.8\n",
      "LogisticRegression(random_state=0) 0.72\n"
     ]
    },
    {
     "name": "stderr",
     "output_type": "stream",
     "text": [
      "/Users/roaka001/opt/anaconda3/envs/INSTK/lib/python3.9/site-packages/sklearn/neural_network/_multilayer_perceptron.py:614: ConvergenceWarning: Stochastic Optimizer: Maximum iterations (300) reached and the optimization hasn't converged yet.\n",
      "  warnings.warn(\n",
      "/Users/roaka001/opt/anaconda3/envs/INSTK/lib/python3.9/site-packages/sklearn/neural_network/_multilayer_perceptron.py:614: ConvergenceWarning: Stochastic Optimizer: Maximum iterations (300) reached and the optimization hasn't converged yet.\n",
      "  warnings.warn(\n"
     ]
    },
    {
     "name": "stdout",
     "output_type": "stream",
     "text": [
      "MLPClassifier(max_iter=300, random_state=1) 0.88\n",
      "Experiment  56\n",
      "------------\n",
      "SVC(C=100, gamma=0.01) 0.92\n",
      "LogisticRegression(random_state=0) 0.6\n",
      "MLPClassifier(max_iter=300, random_state=1) 0.88\n",
      "Experiment  57\n",
      "------------\n",
      "SVC(C=100, gamma=0.01) 0.92\n",
      "LogisticRegression(random_state=0) 0.48\n"
     ]
    },
    {
     "name": "stderr",
     "output_type": "stream",
     "text": [
      "/Users/roaka001/opt/anaconda3/envs/INSTK/lib/python3.9/site-packages/sklearn/neural_network/_multilayer_perceptron.py:614: ConvergenceWarning: Stochastic Optimizer: Maximum iterations (300) reached and the optimization hasn't converged yet.\n",
      "  warnings.warn(\n",
      "/Users/roaka001/opt/anaconda3/envs/INSTK/lib/python3.9/site-packages/sklearn/neural_network/_multilayer_perceptron.py:614: ConvergenceWarning: Stochastic Optimizer: Maximum iterations (300) reached and the optimization hasn't converged yet.\n",
      "  warnings.warn(\n"
     ]
    },
    {
     "name": "stdout",
     "output_type": "stream",
     "text": [
      "MLPClassifier(max_iter=300, random_state=1) 0.92\n",
      "Experiment  58\n",
      "------------\n",
      "SVC(C=100, gamma=0.01) 0.8\n",
      "LogisticRegression(random_state=0) 0.88\n",
      "MLPClassifier(max_iter=300, random_state=1) 0.8\n",
      "Experiment  59\n",
      "------------\n",
      "SVC(C=100, gamma=0.01) 1.0\n",
      "LogisticRegression(random_state=0) 0.84\n"
     ]
    },
    {
     "name": "stderr",
     "output_type": "stream",
     "text": [
      "/Users/roaka001/opt/anaconda3/envs/INSTK/lib/python3.9/site-packages/sklearn/neural_network/_multilayer_perceptron.py:614: ConvergenceWarning: Stochastic Optimizer: Maximum iterations (300) reached and the optimization hasn't converged yet.\n",
      "  warnings.warn(\n",
      "/Users/roaka001/opt/anaconda3/envs/INSTK/lib/python3.9/site-packages/sklearn/neural_network/_multilayer_perceptron.py:614: ConvergenceWarning: Stochastic Optimizer: Maximum iterations (300) reached and the optimization hasn't converged yet.\n",
      "  warnings.warn(\n"
     ]
    },
    {
     "name": "stdout",
     "output_type": "stream",
     "text": [
      "MLPClassifier(max_iter=300, random_state=1) 0.96\n",
      "Experiment  60\n",
      "------------\n",
      "SVC(C=100, gamma=0.01) 0.88\n",
      "LogisticRegression(random_state=0) 0.64\n",
      "MLPClassifier(max_iter=300, random_state=1) 0.96\n",
      "Experiment  61\n",
      "------------\n",
      "SVC(C=100, gamma=0.01) 0.84\n",
      "LogisticRegression(random_state=0) 0.72\n"
     ]
    },
    {
     "name": "stderr",
     "output_type": "stream",
     "text": [
      "/Users/roaka001/opt/anaconda3/envs/INSTK/lib/python3.9/site-packages/sklearn/neural_network/_multilayer_perceptron.py:614: ConvergenceWarning: Stochastic Optimizer: Maximum iterations (300) reached and the optimization hasn't converged yet.\n",
      "  warnings.warn(\n",
      "/Users/roaka001/opt/anaconda3/envs/INSTK/lib/python3.9/site-packages/sklearn/neural_network/_multilayer_perceptron.py:614: ConvergenceWarning: Stochastic Optimizer: Maximum iterations (300) reached and the optimization hasn't converged yet.\n",
      "  warnings.warn(\n"
     ]
    },
    {
     "name": "stdout",
     "output_type": "stream",
     "text": [
      "MLPClassifier(max_iter=300, random_state=1) 0.8\n",
      "Experiment  62\n",
      "------------\n",
      "SVC(C=100, gamma=0.01) 0.8\n",
      "LogisticRegression(random_state=0) 0.64\n",
      "MLPClassifier(max_iter=300, random_state=1) 0.8\n",
      "Experiment  63\n",
      "------------\n",
      "SVC(C=100, gamma=0.01) 0.92\n",
      "LogisticRegression(random_state=0) 0.68\n"
     ]
    },
    {
     "name": "stderr",
     "output_type": "stream",
     "text": [
      "/Users/roaka001/opt/anaconda3/envs/INSTK/lib/python3.9/site-packages/sklearn/neural_network/_multilayer_perceptron.py:614: ConvergenceWarning: Stochastic Optimizer: Maximum iterations (300) reached and the optimization hasn't converged yet.\n",
      "  warnings.warn(\n",
      "/Users/roaka001/opt/anaconda3/envs/INSTK/lib/python3.9/site-packages/sklearn/neural_network/_multilayer_perceptron.py:614: ConvergenceWarning: Stochastic Optimizer: Maximum iterations (300) reached and the optimization hasn't converged yet.\n",
      "  warnings.warn(\n"
     ]
    },
    {
     "name": "stdout",
     "output_type": "stream",
     "text": [
      "MLPClassifier(max_iter=300, random_state=1) 0.92\n",
      "Experiment  64\n",
      "------------\n",
      "SVC(C=100, gamma=0.01) 0.84\n",
      "LogisticRegression(random_state=0) 0.72\n",
      "MLPClassifier(max_iter=300, random_state=1) 0.92\n",
      "Experiment  65\n",
      "------------\n",
      "SVC(C=100, gamma=0.01) 0.76\n",
      "LogisticRegression(random_state=0) 0.72\n"
     ]
    },
    {
     "name": "stderr",
     "output_type": "stream",
     "text": [
      "/Users/roaka001/opt/anaconda3/envs/INSTK/lib/python3.9/site-packages/sklearn/neural_network/_multilayer_perceptron.py:614: ConvergenceWarning: Stochastic Optimizer: Maximum iterations (300) reached and the optimization hasn't converged yet.\n",
      "  warnings.warn(\n",
      "/Users/roaka001/opt/anaconda3/envs/INSTK/lib/python3.9/site-packages/sklearn/neural_network/_multilayer_perceptron.py:614: ConvergenceWarning: Stochastic Optimizer: Maximum iterations (300) reached and the optimization hasn't converged yet.\n",
      "  warnings.warn(\n"
     ]
    },
    {
     "name": "stdout",
     "output_type": "stream",
     "text": [
      "MLPClassifier(max_iter=300, random_state=1) 0.96\n",
      "Experiment  66\n",
      "------------\n",
      "SVC(C=100, gamma=0.01) 0.76\n",
      "LogisticRegression(random_state=0) 0.68\n",
      "MLPClassifier(max_iter=300, random_state=1) 0.88\n",
      "Experiment  67\n",
      "------------\n",
      "SVC(C=100, gamma=0.01) 0.72\n",
      "LogisticRegression(random_state=0) 0.76\n"
     ]
    },
    {
     "name": "stderr",
     "output_type": "stream",
     "text": [
      "/Users/roaka001/opt/anaconda3/envs/INSTK/lib/python3.9/site-packages/sklearn/neural_network/_multilayer_perceptron.py:614: ConvergenceWarning: Stochastic Optimizer: Maximum iterations (300) reached and the optimization hasn't converged yet.\n",
      "  warnings.warn(\n",
      "/Users/roaka001/opt/anaconda3/envs/INSTK/lib/python3.9/site-packages/sklearn/neural_network/_multilayer_perceptron.py:614: ConvergenceWarning: Stochastic Optimizer: Maximum iterations (300) reached and the optimization hasn't converged yet.\n",
      "  warnings.warn(\n"
     ]
    },
    {
     "name": "stdout",
     "output_type": "stream",
     "text": [
      "MLPClassifier(max_iter=300, random_state=1) 0.88\n",
      "Experiment  68\n",
      "------------\n",
      "SVC(C=100, gamma=0.01) 0.92\n",
      "LogisticRegression(random_state=0) 0.84\n",
      "MLPClassifier(max_iter=300, random_state=1) 0.88\n",
      "Experiment  69\n",
      "------------\n",
      "SVC(C=100, gamma=0.01) 0.72\n",
      "LogisticRegression(random_state=0) 0.72\n"
     ]
    },
    {
     "name": "stderr",
     "output_type": "stream",
     "text": [
      "/Users/roaka001/opt/anaconda3/envs/INSTK/lib/python3.9/site-packages/sklearn/neural_network/_multilayer_perceptron.py:614: ConvergenceWarning: Stochastic Optimizer: Maximum iterations (300) reached and the optimization hasn't converged yet.\n",
      "  warnings.warn(\n",
      "/Users/roaka001/opt/anaconda3/envs/INSTK/lib/python3.9/site-packages/sklearn/neural_network/_multilayer_perceptron.py:614: ConvergenceWarning: Stochastic Optimizer: Maximum iterations (300) reached and the optimization hasn't converged yet.\n",
      "  warnings.warn(\n"
     ]
    },
    {
     "name": "stdout",
     "output_type": "stream",
     "text": [
      "MLPClassifier(max_iter=300, random_state=1) 0.8\n",
      "Experiment  70\n",
      "------------\n",
      "SVC(C=100, gamma=0.01) 0.96\n",
      "LogisticRegression(random_state=0) 0.56\n",
      "MLPClassifier(max_iter=300, random_state=1) 0.96\n",
      "Experiment  71\n",
      "------------\n",
      "SVC(C=100, gamma=0.01) 0.96\n",
      "LogisticRegression(random_state=0) 0.8\n"
     ]
    },
    {
     "name": "stderr",
     "output_type": "stream",
     "text": [
      "/Users/roaka001/opt/anaconda3/envs/INSTK/lib/python3.9/site-packages/sklearn/neural_network/_multilayer_perceptron.py:614: ConvergenceWarning: Stochastic Optimizer: Maximum iterations (300) reached and the optimization hasn't converged yet.\n",
      "  warnings.warn(\n",
      "/Users/roaka001/opt/anaconda3/envs/INSTK/lib/python3.9/site-packages/sklearn/neural_network/_multilayer_perceptron.py:614: ConvergenceWarning: Stochastic Optimizer: Maximum iterations (300) reached and the optimization hasn't converged yet.\n",
      "  warnings.warn(\n"
     ]
    },
    {
     "name": "stdout",
     "output_type": "stream",
     "text": [
      "MLPClassifier(max_iter=300, random_state=1) 0.96\n",
      "Experiment  72\n",
      "------------\n",
      "SVC(C=100, gamma=0.01) 0.92\n",
      "LogisticRegression(random_state=0) 0.84\n",
      "MLPClassifier(max_iter=300, random_state=1) 0.96\n",
      "Experiment  73\n",
      "------------\n",
      "SVC(C=100, gamma=0.01) 0.88\n",
      "LogisticRegression(random_state=0) 0.76\n"
     ]
    },
    {
     "name": "stderr",
     "output_type": "stream",
     "text": [
      "/Users/roaka001/opt/anaconda3/envs/INSTK/lib/python3.9/site-packages/sklearn/neural_network/_multilayer_perceptron.py:614: ConvergenceWarning: Stochastic Optimizer: Maximum iterations (300) reached and the optimization hasn't converged yet.\n",
      "  warnings.warn(\n",
      "/Users/roaka001/opt/anaconda3/envs/INSTK/lib/python3.9/site-packages/sklearn/neural_network/_multilayer_perceptron.py:614: ConvergenceWarning: Stochastic Optimizer: Maximum iterations (300) reached and the optimization hasn't converged yet.\n",
      "  warnings.warn(\n"
     ]
    },
    {
     "name": "stdout",
     "output_type": "stream",
     "text": [
      "MLPClassifier(max_iter=300, random_state=1) 0.84\n",
      "Experiment  74\n",
      "------------\n",
      "SVC(C=100, gamma=0.01) 0.8\n",
      "LogisticRegression(random_state=0) 0.52\n",
      "MLPClassifier(max_iter=300, random_state=1) 0.92\n",
      "Experiment  75\n",
      "------------\n",
      "SVC(C=100, gamma=0.01) 0.84\n",
      "LogisticRegression(random_state=0) 0.76\n"
     ]
    },
    {
     "name": "stderr",
     "output_type": "stream",
     "text": [
      "/Users/roaka001/opt/anaconda3/envs/INSTK/lib/python3.9/site-packages/sklearn/neural_network/_multilayer_perceptron.py:614: ConvergenceWarning: Stochastic Optimizer: Maximum iterations (300) reached and the optimization hasn't converged yet.\n",
      "  warnings.warn(\n",
      "/Users/roaka001/opt/anaconda3/envs/INSTK/lib/python3.9/site-packages/sklearn/neural_network/_multilayer_perceptron.py:614: ConvergenceWarning: Stochastic Optimizer: Maximum iterations (300) reached and the optimization hasn't converged yet.\n",
      "  warnings.warn(\n"
     ]
    },
    {
     "name": "stdout",
     "output_type": "stream",
     "text": [
      "MLPClassifier(max_iter=300, random_state=1) 0.92\n",
      "Experiment  76\n",
      "------------\n",
      "SVC(C=100, gamma=0.01) 0.84\n",
      "LogisticRegression(random_state=0) 0.72\n",
      "MLPClassifier(max_iter=300, random_state=1) 0.92\n",
      "Experiment  77\n",
      "------------\n",
      "SVC(C=100, gamma=0.01) 0.8\n",
      "LogisticRegression(random_state=0) 0.88\n"
     ]
    },
    {
     "name": "stderr",
     "output_type": "stream",
     "text": [
      "/Users/roaka001/opt/anaconda3/envs/INSTK/lib/python3.9/site-packages/sklearn/neural_network/_multilayer_perceptron.py:614: ConvergenceWarning: Stochastic Optimizer: Maximum iterations (300) reached and the optimization hasn't converged yet.\n",
      "  warnings.warn(\n",
      "/Users/roaka001/opt/anaconda3/envs/INSTK/lib/python3.9/site-packages/sklearn/neural_network/_multilayer_perceptron.py:614: ConvergenceWarning: Stochastic Optimizer: Maximum iterations (300) reached and the optimization hasn't converged yet.\n",
      "  warnings.warn(\n"
     ]
    },
    {
     "name": "stdout",
     "output_type": "stream",
     "text": [
      "MLPClassifier(max_iter=300, random_state=1) 0.88\n",
      "Experiment  78\n",
      "------------\n",
      "SVC(C=100, gamma=0.01) 0.8\n",
      "LogisticRegression(random_state=0) 0.6\n",
      "MLPClassifier(max_iter=300, random_state=1) 0.88\n",
      "Experiment  79\n",
      "------------\n",
      "SVC(C=100, gamma=0.01) 0.8\n",
      "LogisticRegression(random_state=0) 0.64\n"
     ]
    },
    {
     "name": "stderr",
     "output_type": "stream",
     "text": [
      "/Users/roaka001/opt/anaconda3/envs/INSTK/lib/python3.9/site-packages/sklearn/neural_network/_multilayer_perceptron.py:614: ConvergenceWarning: Stochastic Optimizer: Maximum iterations (300) reached and the optimization hasn't converged yet.\n",
      "  warnings.warn(\n",
      "/Users/roaka001/opt/anaconda3/envs/INSTK/lib/python3.9/site-packages/sklearn/neural_network/_multilayer_perceptron.py:614: ConvergenceWarning: Stochastic Optimizer: Maximum iterations (300) reached and the optimization hasn't converged yet.\n",
      "  warnings.warn(\n"
     ]
    },
    {
     "name": "stdout",
     "output_type": "stream",
     "text": [
      "MLPClassifier(max_iter=300, random_state=1) 0.84\n",
      "Experiment  80\n",
      "------------\n",
      "SVC(C=100, gamma=0.01) 0.92\n",
      "LogisticRegression(random_state=0) 0.84\n",
      "MLPClassifier(max_iter=300, random_state=1) 0.92\n",
      "Experiment  81\n",
      "------------\n",
      "SVC(C=100, gamma=0.01) 0.88\n",
      "LogisticRegression(random_state=0) 0.68\n"
     ]
    },
    {
     "name": "stderr",
     "output_type": "stream",
     "text": [
      "/Users/roaka001/opt/anaconda3/envs/INSTK/lib/python3.9/site-packages/sklearn/neural_network/_multilayer_perceptron.py:614: ConvergenceWarning: Stochastic Optimizer: Maximum iterations (300) reached and the optimization hasn't converged yet.\n",
      "  warnings.warn(\n",
      "/Users/roaka001/opt/anaconda3/envs/INSTK/lib/python3.9/site-packages/sklearn/neural_network/_multilayer_perceptron.py:614: ConvergenceWarning: Stochastic Optimizer: Maximum iterations (300) reached and the optimization hasn't converged yet.\n",
      "  warnings.warn(\n"
     ]
    },
    {
     "name": "stdout",
     "output_type": "stream",
     "text": [
      "MLPClassifier(max_iter=300, random_state=1) 0.88\n",
      "Experiment  82\n",
      "------------\n",
      "SVC(C=100, gamma=0.01) 0.8\n",
      "LogisticRegression(random_state=0) 0.68\n",
      "MLPClassifier(max_iter=300, random_state=1) 0.8\n",
      "Experiment  83\n",
      "------------\n",
      "SVC(C=100, gamma=0.01) 0.88\n",
      "LogisticRegression(random_state=0) 0.68\n"
     ]
    },
    {
     "name": "stderr",
     "output_type": "stream",
     "text": [
      "/Users/roaka001/opt/anaconda3/envs/INSTK/lib/python3.9/site-packages/sklearn/neural_network/_multilayer_perceptron.py:614: ConvergenceWarning: Stochastic Optimizer: Maximum iterations (300) reached and the optimization hasn't converged yet.\n",
      "  warnings.warn(\n",
      "/Users/roaka001/opt/anaconda3/envs/INSTK/lib/python3.9/site-packages/sklearn/neural_network/_multilayer_perceptron.py:614: ConvergenceWarning: Stochastic Optimizer: Maximum iterations (300) reached and the optimization hasn't converged yet.\n",
      "  warnings.warn(\n"
     ]
    },
    {
     "name": "stdout",
     "output_type": "stream",
     "text": [
      "MLPClassifier(max_iter=300, random_state=1) 0.88\n",
      "Experiment  84\n",
      "------------\n",
      "SVC(C=100, gamma=0.01) 0.72\n",
      "LogisticRegression(random_state=0) 0.6\n",
      "MLPClassifier(max_iter=300, random_state=1) 0.84\n",
      "Experiment  85\n",
      "------------\n",
      "SVC(C=100, gamma=0.01) 0.96\n",
      "LogisticRegression(random_state=0) 0.76\n"
     ]
    },
    {
     "name": "stderr",
     "output_type": "stream",
     "text": [
      "/Users/roaka001/opt/anaconda3/envs/INSTK/lib/python3.9/site-packages/sklearn/neural_network/_multilayer_perceptron.py:614: ConvergenceWarning: Stochastic Optimizer: Maximum iterations (300) reached and the optimization hasn't converged yet.\n",
      "  warnings.warn(\n",
      "/Users/roaka001/opt/anaconda3/envs/INSTK/lib/python3.9/site-packages/sklearn/neural_network/_multilayer_perceptron.py:614: ConvergenceWarning: Stochastic Optimizer: Maximum iterations (300) reached and the optimization hasn't converged yet.\n",
      "  warnings.warn(\n"
     ]
    },
    {
     "name": "stdout",
     "output_type": "stream",
     "text": [
      "MLPClassifier(max_iter=300, random_state=1) 0.92\n",
      "Experiment  86\n",
      "------------\n",
      "SVC(C=100, gamma=0.01) 0.88\n",
      "LogisticRegression(random_state=0) 0.84\n",
      "MLPClassifier(max_iter=300, random_state=1) 0.88\n",
      "Experiment  87\n",
      "------------\n",
      "SVC(C=100, gamma=0.01) 0.8\n",
      "LogisticRegression(random_state=0) 0.76\n"
     ]
    },
    {
     "name": "stderr",
     "output_type": "stream",
     "text": [
      "/Users/roaka001/opt/anaconda3/envs/INSTK/lib/python3.9/site-packages/sklearn/neural_network/_multilayer_perceptron.py:614: ConvergenceWarning: Stochastic Optimizer: Maximum iterations (300) reached and the optimization hasn't converged yet.\n",
      "  warnings.warn(\n",
      "/Users/roaka001/opt/anaconda3/envs/INSTK/lib/python3.9/site-packages/sklearn/neural_network/_multilayer_perceptron.py:614: ConvergenceWarning: Stochastic Optimizer: Maximum iterations (300) reached and the optimization hasn't converged yet.\n",
      "  warnings.warn(\n"
     ]
    },
    {
     "name": "stdout",
     "output_type": "stream",
     "text": [
      "MLPClassifier(max_iter=300, random_state=1) 0.84\n",
      "Experiment  88\n",
      "------------\n",
      "SVC(C=100, gamma=0.01) 0.88\n",
      "LogisticRegression(random_state=0) 0.84\n",
      "MLPClassifier(max_iter=300, random_state=1) 0.96\n",
      "Experiment  89\n",
      "------------\n",
      "SVC(C=100, gamma=0.01) 0.88\n",
      "LogisticRegression(random_state=0) 0.72\n"
     ]
    },
    {
     "name": "stderr",
     "output_type": "stream",
     "text": [
      "/Users/roaka001/opt/anaconda3/envs/INSTK/lib/python3.9/site-packages/sklearn/neural_network/_multilayer_perceptron.py:614: ConvergenceWarning: Stochastic Optimizer: Maximum iterations (300) reached and the optimization hasn't converged yet.\n",
      "  warnings.warn(\n",
      "/Users/roaka001/opt/anaconda3/envs/INSTK/lib/python3.9/site-packages/sklearn/neural_network/_multilayer_perceptron.py:614: ConvergenceWarning: Stochastic Optimizer: Maximum iterations (300) reached and the optimization hasn't converged yet.\n",
      "  warnings.warn(\n"
     ]
    },
    {
     "name": "stdout",
     "output_type": "stream",
     "text": [
      "MLPClassifier(max_iter=300, random_state=1) 0.84\n",
      "Experiment  90\n",
      "------------\n",
      "SVC(C=100, gamma=0.01) 0.92\n",
      "LogisticRegression(random_state=0) 0.88\n",
      "MLPClassifier(max_iter=300, random_state=1) 0.96\n",
      "Experiment  91\n",
      "------------\n",
      "SVC(C=100, gamma=0.01) 0.76\n",
      "LogisticRegression(random_state=0) 0.64\n"
     ]
    },
    {
     "name": "stderr",
     "output_type": "stream",
     "text": [
      "/Users/roaka001/opt/anaconda3/envs/INSTK/lib/python3.9/site-packages/sklearn/neural_network/_multilayer_perceptron.py:614: ConvergenceWarning: Stochastic Optimizer: Maximum iterations (300) reached and the optimization hasn't converged yet.\n",
      "  warnings.warn(\n",
      "/Users/roaka001/opt/anaconda3/envs/INSTK/lib/python3.9/site-packages/sklearn/neural_network/_multilayer_perceptron.py:614: ConvergenceWarning: Stochastic Optimizer: Maximum iterations (300) reached and the optimization hasn't converged yet.\n",
      "  warnings.warn(\n"
     ]
    },
    {
     "name": "stdout",
     "output_type": "stream",
     "text": [
      "MLPClassifier(max_iter=300, random_state=1) 0.88\n",
      "Experiment  92\n",
      "------------\n",
      "SVC(C=100, gamma=0.01) 0.68\n",
      "LogisticRegression(random_state=0) 0.88\n",
      "MLPClassifier(max_iter=300, random_state=1) 0.84\n",
      "Experiment  93\n",
      "------------\n",
      "SVC(C=100, gamma=0.01) 0.92\n",
      "LogisticRegression(random_state=0) 0.84\n"
     ]
    },
    {
     "name": "stderr",
     "output_type": "stream",
     "text": [
      "/Users/roaka001/opt/anaconda3/envs/INSTK/lib/python3.9/site-packages/sklearn/neural_network/_multilayer_perceptron.py:614: ConvergenceWarning: Stochastic Optimizer: Maximum iterations (300) reached and the optimization hasn't converged yet.\n",
      "  warnings.warn(\n",
      "/Users/roaka001/opt/anaconda3/envs/INSTK/lib/python3.9/site-packages/sklearn/neural_network/_multilayer_perceptron.py:614: ConvergenceWarning: Stochastic Optimizer: Maximum iterations (300) reached and the optimization hasn't converged yet.\n",
      "  warnings.warn(\n"
     ]
    },
    {
     "name": "stdout",
     "output_type": "stream",
     "text": [
      "MLPClassifier(max_iter=300, random_state=1) 0.96\n",
      "Experiment  94\n",
      "------------\n",
      "SVC(C=100, gamma=0.01) 0.8\n",
      "LogisticRegression(random_state=0) 0.68\n",
      "MLPClassifier(max_iter=300, random_state=1) 0.84\n",
      "Experiment  95\n",
      "------------\n",
      "SVC(C=100, gamma=0.01) 0.88\n",
      "LogisticRegression(random_state=0) 0.76\n"
     ]
    },
    {
     "name": "stderr",
     "output_type": "stream",
     "text": [
      "/Users/roaka001/opt/anaconda3/envs/INSTK/lib/python3.9/site-packages/sklearn/neural_network/_multilayer_perceptron.py:614: ConvergenceWarning: Stochastic Optimizer: Maximum iterations (300) reached and the optimization hasn't converged yet.\n",
      "  warnings.warn(\n",
      "/Users/roaka001/opt/anaconda3/envs/INSTK/lib/python3.9/site-packages/sklearn/neural_network/_multilayer_perceptron.py:614: ConvergenceWarning: Stochastic Optimizer: Maximum iterations (300) reached and the optimization hasn't converged yet.\n",
      "  warnings.warn(\n"
     ]
    },
    {
     "name": "stdout",
     "output_type": "stream",
     "text": [
      "MLPClassifier(max_iter=300, random_state=1) 0.84\n",
      "Experiment  96\n",
      "------------\n",
      "SVC(C=100, gamma=0.01) 0.84\n",
      "LogisticRegression(random_state=0) 0.68\n",
      "MLPClassifier(max_iter=300, random_state=1) 0.8\n",
      "Experiment  97\n",
      "------------\n",
      "SVC(C=100, gamma=0.01) 0.72\n",
      "LogisticRegression(random_state=0) 0.56\n"
     ]
    },
    {
     "name": "stderr",
     "output_type": "stream",
     "text": [
      "/Users/roaka001/opt/anaconda3/envs/INSTK/lib/python3.9/site-packages/sklearn/neural_network/_multilayer_perceptron.py:614: ConvergenceWarning: Stochastic Optimizer: Maximum iterations (300) reached and the optimization hasn't converged yet.\n",
      "  warnings.warn(\n",
      "/Users/roaka001/opt/anaconda3/envs/INSTK/lib/python3.9/site-packages/sklearn/neural_network/_multilayer_perceptron.py:614: ConvergenceWarning: Stochastic Optimizer: Maximum iterations (300) reached and the optimization hasn't converged yet.\n",
      "  warnings.warn(\n"
     ]
    },
    {
     "name": "stdout",
     "output_type": "stream",
     "text": [
      "MLPClassifier(max_iter=300, random_state=1) 0.72\n",
      "Experiment  98\n",
      "------------\n",
      "SVC(C=100, gamma=0.01) 0.84\n",
      "LogisticRegression(random_state=0) 0.68\n",
      "MLPClassifier(max_iter=300, random_state=1) 0.84\n",
      "Experiment  99\n",
      "------------\n",
      "SVC(C=100, gamma=0.01) 0.76\n",
      "LogisticRegression(random_state=0) 0.76\n",
      "MLPClassifier(max_iter=300, random_state=1) 0.76\n"
     ]
    },
    {
     "name": "stderr",
     "output_type": "stream",
     "text": [
      "/Users/roaka001/opt/anaconda3/envs/INSTK/lib/python3.9/site-packages/sklearn/neural_network/_multilayer_perceptron.py:614: ConvergenceWarning: Stochastic Optimizer: Maximum iterations (300) reached and the optimization hasn't converged yet.\n",
      "  warnings.warn(\n",
      "/Users/roaka001/opt/anaconda3/envs/INSTK/lib/python3.9/site-packages/sklearn/neural_network/_multilayer_perceptron.py:614: ConvergenceWarning: Stochastic Optimizer: Maximum iterations (300) reached and the optimization hasn't converged yet.\n",
      "  warnings.warn(\n"
     ]
    }
   ],
   "source": [
    "n_data = 100\n",
    "n_experiments = 100\n",
    "\n",
    "models = [svm.SVC(gamma=0.01, C=100),\n",
    "         LogisticRegression(random_state=0),\n",
    "         MLPClassifier(random_state=1, max_iter=300)]\n",
    "n_models = len(models)\n",
    "score = np.zeros([n_models, n_experiments])\n",
    "\n",
    "for i in range(n_experiments):\n",
    "    print (\"Experiment \", i);\n",
    "    print (\"------------\");\n",
    "    [X, Y] = generator.generate(n_data)\n",
    "    [X_train, X_test, y_train, y_test] = process_data(X, Y)\n",
    "    k = 0\n",
    "    for model in models:\n",
    "        score[k,i] = Evaluate(model, X_train, y_train, X_test, y_test)\n",
    "        print(model, score[k,i])\n",
    "        k+=1"
   ]
  }
 ],
 "metadata": {
  "kernelspec": {
   "display_name": "Python 3 (ipykernel)",
   "language": "python",
   "name": "python3"
  },
  "language_info": {
   "codemirror_mode": {
    "name": "ipython",
    "version": 3
   },
   "file_extension": ".py",
   "mimetype": "text/x-python",
   "name": "python",
   "nbconvert_exporter": "python",
   "pygments_lexer": "ipython3",
   "version": "3.9.6"
  }
 },
 "nbformat": 4,
 "nbformat_minor": 5
}
