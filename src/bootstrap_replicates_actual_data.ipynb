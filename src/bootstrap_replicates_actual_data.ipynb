{
 "cells": [
  {
   "cell_type": "code",
   "execution_count": null,
   "metadata": {},
   "outputs": [],
   "source": [
    "\n",
    "\n",
    "def bootstrap_replicates_actual_data(model,n_bootstrap_samples,y_train,X_train, )\n",
    "    import sklearn.utils \n",
    "    N,_=X_train.shape\n",
    "    \n",
    "    bootstrap_model_vec = numpy.zeros(n_bootstrap_samples)\n",
    "\n",
    "\n",
    "    for i in range(n_bootstrap_samples):\n",
    "        bootstrap_sample_y = sklearn.utils.resample(y_train.ravel(), replace=True, n_samples =N )\n",
    "        bootstrap_sample_X = sklearn.utils.resample(X_train, replace=True, n_samples =N )\n",
    "        bootstrap_model = model.fit(bootstrap_sample_X,bootstrap_sample_y)\n",
    "        bootstrap_model_vec[i]=bootstrap_model\n",
    "    return bootstrap_model_vec\n",
    "\n",
    "    \n"
   ]
  }
 ],
 "metadata": {
  "kernelspec": {
   "display_name": "Python 3",
   "language": "python",
   "name": "python3"
  },
  "language_info": {
   "codemirror_mode": {
    "name": "ipython",
    "version": 3
   },
   "file_extension": ".py",
   "mimetype": "text/x-python",
   "name": "python",
   "nbconvert_exporter": "python",
   "pygments_lexer": "ipython3",
   "version": "3.8.3"
  }
 },
 "nbformat": 4,
 "nbformat_minor": 4
}
