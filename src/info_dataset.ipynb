{
 "cells": [
  {
   "cell_type": "markdown",
   "metadata": {},
   "source": [
    "We chose to use the iris dataset.The data set contains 3 classes,with 50 Samples each.The 3 classes referse to 3 different Iris plant types.Iris Setosa is linearly sepreble from the two other class namely Iris Versicolour and Iris Virginica.\n",
    "\n",
    "Number of Samples: 150\n",
    "\n",
    "Number of Attributes:4 numerical predictures and the Class vector\n",
    "\n",
    "Attribute Information:\n",
    "1.sepal length in cm\n",
    "2.sepal width in cm\n",
    "3.petal length in cm\n",
    "4.petal width in cm\n",
    "\n",
    "5.class:\n",
    "\n",
    "  Iris Setosa\n",
    "  Iris Versicolour\n",
    "  Iris Virginica\n",
    "  \n",
    "Class distribution: 33.3% of for each class   \n",
    "\n",
    "  "
   ]
  }
 ],
 "metadata": {
  "kernelspec": {
   "display_name": "Python 3",
   "language": "python",
   "name": "python3"
  },
  "language_info": {
   "codemirror_mode": {
    "name": "ipython",
    "version": 3
   },
   "file_extension": ".py",
   "mimetype": "text/x-python",
   "name": "python",
   "nbconvert_exporter": "python",
   "pygments_lexer": "ipython3",
   "version": "3.8.3"
  }
 },
 "nbformat": 4,
 "nbformat_minor": 4
}
